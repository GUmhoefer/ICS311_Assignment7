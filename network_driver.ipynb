{
 "cells": [
  {
   "cell_type": "code",
   "execution_count": 1,
   "metadata": {},
   "outputs": [],
   "source": [
    "import network as net"
   ]
  },
  {
   "cell_type": "code",
   "execution_count": 2,
   "metadata": {},
   "outputs": [
    {
     "data": {
      "text/plain": [
       "<module 'network' from '/Users/gregor/Library/CloudStorage/OneDrive-SharedLibraries-Onedrive/Documents/W Fall 2024/ICS 311/Assignments/Assignment 7/Assignment7/ICS311_Assignment7/network.py'>"
      ]
     },
     "execution_count": 2,
     "metadata": {},
     "output_type": "execute_result"
    }
   ],
   "source": [
    "import importlib\n",
    "importlib.reload(net)"
   ]
  },
  {
   "cell_type": "code",
   "execution_count": 3,
   "metadata": {},
   "outputs": [],
   "source": [
    "socnet = net.Network()\n",
    "socnet.add_user(\"Alice\", [\"Bob\", \"Charlie\"])\n",
    "socnet.add_user(\"Bob\", [\"Alice\", \"Charlie\"])\n",
    "socnet.add_user(\"Charlie\", [\"Alice\", \"Bob\", \"David\"])\n",
    "socnet.add_user(\"David\", [\"Charlie\"])\n"
   ]
  },
  {
   "cell_type": "code",
   "execution_count": 4,
   "metadata": {},
   "outputs": [
    {
     "name": "stdout",
     "output_type": "stream",
     "text": [
      "{('Alice', 'Charlie'), ('Alice', 'Bob'), ('Bob', 'Charlie'), ('Charlie', 'David')}\n"
     ]
    }
   ],
   "source": [
    "print(socnet.edges)"
   ]
  },
  {
   "cell_type": "code",
   "execution_count": 5,
   "metadata": {},
   "outputs": [
    {
     "name": "stdout",
     "output_type": "stream",
     "text": [
      "Message to send: Hey Bob, this is Alice. You owe me $5!\n",
      "\n",
      "Sender: Alice\n",
      "Receiver: Bob\n",
      "Encrypted message: 61889903984832079178217433716360426267862213255633910794750423132089629651286533842167727755831746184131631626412342540713640244187914609088883896841948861327285710369257210193492009048295664634625822759296756342870638961168825053188574868160090373718577371447628432783228760862705553432485151475203821882185\n",
      "\n"
     ]
    }
   ],
   "source": [
    "message_to_send = \"Hey Bob, this is Alice. You owe me $5!\"\n",
    "encrypted_message = socnet.encrypt_message(\"Alice\", \"Bob\", message_to_send)\n",
    "print(\n",
    "    f\"Message to send: {message_to_send}\\n\\n\"\n",
    "    f\"Sender: {encrypted_message[0]}\\n\"\n",
    "    f\"Receiver: {encrypted_message[1]}\\n\"\n",
    "    f\"Encrypted message: {encrypted_message[2]['message']}\\n\"\n",
    ")\n"
   ]
  },
  {
   "cell_type": "code",
   "execution_count": 6,
   "metadata": {},
   "outputs": [
    {
     "name": "stdout",
     "output_type": "stream",
     "text": [
      "Decrypted message: Hey Bob, this is Alice. You owe me $5!\n",
      "Message matches: True\n"
     ]
    }
   ],
   "source": [
    "decrypted_message = socnet.decrypt_message(encrypted_message)\n",
    "print(f\"Decrypted message: {decrypted_message}\")\n",
    "print(f\"Message matches: {message_to_send == decrypted_message}\")"
   ]
  },
  {
   "cell_type": "code",
   "execution_count": 7,
   "metadata": {},
   "outputs": [
    {
     "name": "stdout",
     "output_type": "stream",
     "text": [
      "Message to send: Sup, Bob!\n",
      "\n",
      "Sender: Alice\n",
      "Receiver: Bob\n",
      "Encrypted message: 61889903984832079178217433716360426267862213255633910794750423132089629651286533842167727755831746184131631626412342540713640244187914609088883896841948861327285710369257210193492009048295664634625822759296756342870638961168825053188574868160090373718577371447628432783228760862705553432485151475203821882185\n",
      "Signature: 88709427708520971999253317446555075325988898755601482628464565548047035624623435678074231747649131389299263829468605126079014827626865372212354309828234495688441268077270068033764040722751228983580756517680280642970618325111604564681514904977197686370686268262579140648438303155004222286908767825640645802971\n",
      "\n",
      "Decrypted and validated message: Sup, Bob!\n"
     ]
    }
   ],
   "source": [
    "# Alice sends a signed message to Bob\n",
    "message_to_send = \"Sup, Bob!\"\n",
    "signed_message= socnet.encrypt_message(\"Alice\", \"Bob\", message_to_send)\n",
    "\n",
    "print(\n",
    "    f\"Message to send: {message_to_send}\\n\\n\"\n",
    "    f\"Sender: {encrypted_message[0]}\\n\"\n",
    "    f\"Receiver: {encrypted_message[1]}\\n\"\n",
    "    f\"Encrypted message: {encrypted_message[2]['message']}\\n\"\n",
    "    f\"Signature: {encrypted_message[2]['signature']}\"\n",
    ")\n",
    "\n",
    "# Bob receives and validates the message\n",
    "try:\n",
    "    received_message = socnet.decrypt_message(signed_message)\n",
    "    print(\"\\nDecrypted and validated message:\", received_message)\n",
    "except ValueError as e:\n",
    "    print(e)"
   ]
  },
  {
   "cell_type": "code",
   "execution_count": 8,
   "metadata": {},
   "outputs": [
    {
     "name": "stdout",
     "output_type": "stream",
     "text": [
     "\n--- Confirmation message ---\n", 
      "Original message: Sup, Bob!\n", 
      "Original signature: 88709427708520971999253317446555075325988898755601482628464565548047035624623435678074231747649131389299263829468605126079014827626865372212354309828234495688441268077270068033764040722751228983580756517680280642970618325111604564681514904977197686370686268262579140648438303155004222286908767825640645802971\n",
      "Original hash: d9e4d6f2b27e91bdf0f8f6a51f75b7f399ae8b7e0f9bc67db71f44c9f40d1531\n"
     ]
    }
   ],
   "source": [
    "enc_message = socnet.encrypt_message(\"Bob\", \"Alice\", \"Hey Alice, thanks for the reminder, I'll pay you back at the office party tomorrow.\")\n",
    "message = enc_message[2][\"message\"]\n",
    "print(message)\n",
    "wrong_key = socnet.decrypt(message, socnet.users[\"Charlie\"].priv_key)\n",
    "correct_key = socnet.decrypt(message, socnet.users[\"Alice\"].priv_key)\n",
    "print(correct_key)\n"
   ]
  },
  {
   "cell_type": "code",
   "execution_count": null,
   "metadata": {},
   "outputs": [],
   "source": []
  },

 "metadata": {
  "kernelspec": {
   "display_name": "base",
   "language": "python",
   "name": "python3"
  },
  "language_info": {
   "codemirror_mode": {
    "name": "ipython",
    "version": 3
   },
   "file_extension": ".py",
   "mimetype": "text/x-python",
   "name": "python",
   "nbconvert_exporter": "python",
   "pygments_lexer": "ipython3",
   "version": "3.11.5"
  }
 },
 "nbformat": 4,
 "nbformat_minor": 2
}
