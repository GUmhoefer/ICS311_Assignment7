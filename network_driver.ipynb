{
 "cells": [
  {
   "cell_type": "code",
   "execution_count": 1,
   "metadata": {},
   "outputs": [],
   "source": [
    "import network as net"
   ]
  },
  {
   "cell_type": "code",
   "execution_count": 2,
   "metadata": {},
   "outputs": [
    {
     "data": {
      "text/plain": [
       "<module 'network' from '/Users/gregor/Library/CloudStorage/OneDrive-SharedLibraries-Onedrive/Documents/W Fall 2024/ICS 311/Assignments/Assignment 7/Assignment7/ICS311_Assignment7/network.py'>"
      ]
     },
     "execution_count": 2,
     "metadata": {},
     "output_type": "execute_result"
    }
   ],
   "source": [
    "import importlib\n",
    "importlib.reload(net)"
   ]
  },
  {
   "cell_type": "code",
   "execution_count": 3,
   "metadata": {},
   "outputs": [],
   "source": [
    "socnet = net.Network()\n",
    "socnet.add_user(\"Alice\", [\"Bob\", \"Charlie\"])\n",
    "socnet.add_user(\"Bob\", [\"Alice\", \"Charlie\"])\n",
    "socnet.add_user(\"Charlie\", [\"Alice\", \"Bob\", \"David\"])\n",
    "socnet.add_user(\"David\", [\"Charlie\"])\n"
   ]
  },
  {
   "cell_type": "code",
   "execution_count": 4,
   "metadata": {},
   "outputs": [
    {
     "name": "stdout",
     "output_type": "stream",
     "text": [
      "{('Alice', 'Charlie'), ('Alice', 'Bob'), ('Bob', 'Charlie'), ('Charlie', 'David')}\n"
     ]
    }
   ],
   "source": [
    "print(socnet.edges)"
   ]
  },
  {
   "cell_type": "code",
   "execution_count": 5,
   "metadata": {},
   "outputs": [
    {
     "name": "stdout",
     "output_type": "stream",
     "text": [
      "Message to send: Hey Bob, this is Alice. You owe me $5!\n",
      "\n",
      "Sender: Alice\n",
      "Receiver: Bob\n",
      "Encrypted message: 61889903984832079178217433716360426267862213255633910794750423132089629651286533842167727755831746184131631626412342540713640244187914609088883896841948861327285710369257210193492009048295664634625822759296756342870638961168825053188574868160090373718577371447628432783228760862705553432485151475203821882185\n",
      "\n"
     ]
    }
   ],
   "source": [
    "message_to_send = \"Hey Bob, this is Alice. You owe me $5!\"\n",
    "encrypted_message = socnet.encrypt_message(\"Alice\", \"Bob\", message_to_send)\n",
    "print(\n",
    "    f\"Message to send: {message_to_send}\\n\\n\"\n",
    "    f\"Sender: {encrypted_message[0]}\\n\"\n",
    "    f\"Receiver: {encrypted_message[1]}\\n\"\n",
    "    f\"Encrypted message: {encrypted_message[2]['message']}\\n\"\n",
    ")\n"
   ]
  },
  {
   "cell_type": "code",
   "execution_count": 6,
   "metadata": {},
   "outputs": [
    {
     "name": "stdout",
     "output_type": "stream",
     "text": [
      "Decrypted message: Hey Bob, this is Alice. You owe me $5!\n",
      "Message matches: True\n"
     ]
    }
   ],
   "source": [
    "decrypted_message = socnet.decrypt_message(encrypted_message)\n",
    "print(f\"Decrypted message: {decrypted_message}\")\n",
    "print(f\"Message matches: {message_to_send == decrypted_message}\")"
   ]
  },
  {
   "cell_type": "code",
   "execution_count": 7,
   "metadata": {},
   "outputs": [
    {
     "name": "stdout",
     "output_type": "stream",
     "text": [
      "Message to send: Sup, Bob!\n",
      "\n",
      "Sender: Alice\n",
      "Receiver: Bob\n",
      "Encrypted message: 61889903984832079178217433716360426267862213255633910794750423132089629651286533842167727755831746184131631626412342540713640244187914609088883896841948861327285710369257210193492009048295664634625822759296756342870638961168825053188574868160090373718577371447628432783228760862705553432485151475203821882185\n",
      "Signature: 88709427708520971999253317446555075325988898755601482628464565548047035624623435678074231747649131389299263829468605126079014827626865372212354309828234495688441268077270068033764040722751228983580756517680280642970618325111604564681514904977197686370686268262579140648438303155004222286908767825640645802971\n",
      "\n",
      "Decrypted and validated message: Sup, Bob!\n"
     ]
    }
   ],
   "source": [
    "# Alice sends a signed message to Bob\n",
    "message_to_send = \"Sup, Bob!\"\n",
    "signed_message= socnet.encrypt_message(\"Alice\", \"Bob\", message_to_send)\n",
    "\n",
    "print(\n",
    "    f\"Message to send: {message_to_send}\\n\\n\"\n",
    "    f\"Sender: {encrypted_message[0]}\\n\"\n",
    "    f\"Receiver: {encrypted_message[1]}\\n\"\n",
    "    f\"Encrypted message: {encrypted_message[2]['message']}\\n\"\n",
    "    f\"Signature: {encrypted_message[2]['signature']}\"\n",
    ")\n",
    "\n",
    "# Bob receives and validates the message\n",
    "try:\n",
    "    received_message = socnet.decrypt_message(signed_message)\n",
    "    print(\"\\nDecrypted and validated message:\", received_message)\n",
    "except ValueError as e:\n",
    "    print(e)"
   ]
  },
  {
   "cell_type": "code",
   "execution_count": 8,
   "metadata": {},
   "outputs": [
    {
     "name": "stdout",
     "output_type": "stream",
     "text": [
      "--- Confirmation message ---\n",
      "Original message: Sup, Bob!\n",
      "Original signature: 88709427708520971999253317446555075325988898755601482628464565548047035624623435678074231747649131389299263829468605126079014827626865372212354309828234495688441268077270068033764040722751228983580756517680280642970618325111604564681514904977197686370686268262579140648438303155004222286908767825640645802971\n",
      "Original hash: 7b506b7883b11d2839c80364d54276a6dbecf9d85b1200cdab8f9a347064488f4b7c8cb8705b647ee7fa9ecb4b70bcfc035f4b27327b16386c8db2a178fa3b58\n",
      "Confirmation message: Received and validated message from Alice\n",
      "Confirmation signature: 4441493345866903611793617547459227888397607093291862902132967637428581890506544946578300188000569751816718747114410874045106762613555735861971009353450235811039353040433491055737217150671892645081465403431161962914448498779746097301105514827073149819383643836230148501340293674528993773577066937161441360415396353351555065278162588500135561407438\n",
      "Confirmation hash: 13ffb4ed3d398c31ff86cc8c04b1c84d91fe110adcc72fa6d344b7b9c2d5d013\n"
     ]
    }
   ],
   "source": [
    "# **New**: Bob responds with a signed confirmation message to Alice\n",
    "confirmation_message = socnet.confirm_signed_message(\"Bob\", \"Alice\", signed_message)\n",
    "print(\"\\n--- Confirmation message ---\")\n",
    "print(f\"Original message: {confirmation_message[2]['original_message']}\")\n",
    "print(f\"Original signature: {confirmation_message[2]['original_signature']}\")\n",
    "print(f\"Original hash: {confirmation_message[2]['original_hash']}\")\n",
    "print(f\"Confirmation message: {confirmation_message[2]['confirmation_message']}\")\n",
    "print(f\"Confirmation signature: {confirmation_message[2]['confirmation_signature']}\")\n",
    "print(f\"Confirmation hash: {confirmation_message[2]['confirmation_hash']}\")"
   ]
  },
  {
   "cell_type": "code",
   "execution_count": 9,
   "metadata": {},
   "outputs": [
    {
     "name": "stdout",
     "output_type": "stream",
     "text": [
      "36968155383623299821985792974981354799655209629102739081269761243884750559028351207453181600840516700939620487290872090919324400530127415312503808589460901004731109986342814833547444979641209855377907226228741387006640596322897540597943197173497344111634292143962954673426635221696800104991153278116689619615\n",
      "Incorrect key used for decryption:  'utf-8' codec can't decode byte 0xbd in position 1: invalid start byte\n",
      "Hey Alice, thanks for the reminder, I'll pay you back at the office party tomorrow.\n"
     ]
    }
   ],
   "source": [
    "enc_message = socnet.encrypt_message(\"Bob\", \"Alice\", \"Hey Alice, thanks for the reminder, I'll pay you back at the office party tomorrow.\")\n",
    "message = enc_message[2][\"message\"]\n",
    "print(message)\n",
    "wrong_key = socnet.decrypt(message, socnet.users[\"Charlie\"].priv_key)\n",
    "correct_key = socnet.decrypt(message, socnet.users[\"Alice\"].priv_key)\n",
    "print(correct_key)\n"
   ]
  }
 ],
 "metadata": {
  "kernelspec": {
   "display_name": "base",
   "language": "python",
   "name": "python3"
  },
  "language_info": {
   "codemirror_mode": {
    "name": "ipython",
    "version": 3
   },
   "file_extension": ".py",
   "mimetype": "text/x-python",
   "name": "python",
   "nbconvert_exporter": "python",
   "pygments_lexer": "ipython3",
   "version": "3.11.5"
  }
 },
 "nbformat": 4,
 "nbformat_minor": 2
}
