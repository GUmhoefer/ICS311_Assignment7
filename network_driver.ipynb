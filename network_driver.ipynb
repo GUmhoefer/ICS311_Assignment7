{
 "cells": [
  {
   "cell_type": "code",
   "execution_count": 1,
   "metadata": {},
   "outputs": [],
   "source": [
    "import network as net"
   ]
  },
  {
   "cell_type": "code",
   "execution_count": 2,
   "metadata": {},
   "outputs": [
    {
     "data": {
      "text/plain": [
       "<module 'network' from '/Users/jlee/Desktop/github/ICS311_Assignment7/network.py'>"
      ]
     },
     "execution_count": 2,
     "metadata": {},
     "output_type": "execute_result"
    }
   ],
   "source": [
    "import importlib\n",
    "importlib.reload(net)"
   ]
  },
  {
   "cell_type": "code",
   "execution_count": 3,
   "metadata": {},
   "outputs": [],
   "source": [
    "socnet = net.Network()\n",
    "socnet.add_user(\"Alice\", [\"Bob\", \"Charlie\"])\n",
    "socnet.add_user(\"Bob\", [\"Alice\", \"Charlie\"])\n",
    "socnet.add_user(\"Charlie\", [\"Alice\", \"Bob\", \"David\"])\n",
    "socnet.add_user(\"David\", [\"Charlie\"])\n"
   ]
  },
  {
   "cell_type": "code",
   "execution_count": 4,
   "metadata": {},
   "outputs": [
    {
     "name": "stdout",
     "output_type": "stream",
     "text": [
      "{('Bob', 'Charlie'), ('Charlie', 'David'), ('Alice', 'Charlie'), ('Alice', 'Bob')}\n"
     ]
    }
   ],
   "source": [
    "print(socnet.edges)"
   ]
  },
  {
   "cell_type": "code",
   "execution_count": 5,
   "metadata": {},
   "outputs": [
    {
     "name": "stdout",
     "output_type": "stream",
     "text": [
      "Message to send: Hey Bob, this is Alice. You owe me $5!\n",
      "\n",
      "Sender: Alice\n",
      "Receiver: Bob\n",
      "Encrypted message: 17265172820882940541126732682677045056222333908557083978259680732821974173427653524492144270806086923721415743508239800138951926422822083446844399290807572834465025271479156315025376748392625021034815266819232394824585640097750313239351288228774525063513497447222387963301161517341019022038332293410180601285\n",
      "\n"
     ]
    }
   ],
   "source": [
    "message_to_send = \"Hey Bob, this is Alice. You owe me $5!\"\n",
    "encrypted_message = socnet.encrypt_message(\"Alice\", \"Bob\", message_to_send)\n",
    "print(\n",
    "    f\"Message to send: {message_to_send}\\n\\n\"\n",
    "    f\"Sender: {encrypted_message[0]}\\n\"\n",
    "    f\"Receiver: {encrypted_message[1]}\\n\"\n",
    "    f\"Encrypted message: {encrypted_message[2]['message']}\\n\"\n",
    ")\n"
   ]
  },
  {
   "cell_type": "code",
   "execution_count": 6,
   "metadata": {},
   "outputs": [
    {
     "name": "stdout",
     "output_type": "stream",
     "text": [
      "Decrypted message: Hey Bob, this is Alice. You owe me $5!\n",
      "Message matches: True\n"
     ]
    }
   ],
   "source": [
    "decrypted_message = socnet.decrypt_message(encrypted_message)\n",
    "print(f\"Decrypted message: {decrypted_message}\")\n",
    "print(f\"Message matches: {message_to_send == decrypted_message}\")"
   ]
  },
  {
   "cell_type": "markdown",
   "metadata": {},
   "source": []
  },
  {
   "cell_type": "code",
   "execution_count": 7,
   "metadata": {},
   "outputs": [
    {
     "name": "stdout",
     "output_type": "stream",
     "text": [
      "Message to send: Sup, Bob!\n",
      "\n",
      "Sender: Alice\n",
      "Receiver: Bob\n",
      "Encrypted message: 17265172820882940541126732682677045056222333908557083978259680732821974173427653524492144270806086923721415743508239800138951926422822083446844399290807572834465025271479156315025376748392625021034815266819232394824585640097750313239351288228774525063513497447222387963301161517341019022038332293410180601285\n",
      "Signature: 63348830468805518485643898195733034247098040527424226391146848408268863750682692500854704388336080359725422304655904507795335408671547387984934086281325491262094713277057716635501055876691504347609778821954042995113157049036490225665261610250529103345225463415615708600858357272276177779426986644296591004905\n",
      "\n",
      "Decrypted and validated message: Sup, Bob!\n"
     ]
    }
   ],
   "source": [
    "# Alice sends a signed message to Bob\n",
    "message_to_send = \"Sup, Bob!\"\n",
    "signed_message= socnet.encrypt_message(\"Alice\", \"Bob\", message_to_send)\n",
    "\n",
    "print(\n",
    "    f\"Message to send: {message_to_send}\\n\\n\"\n",
    "    f\"Sender: {encrypted_message[0]}\\n\"\n",
    "    f\"Receiver: {encrypted_message[1]}\\n\"\n",
    "    f\"Encrypted message: {encrypted_message[2]['message']}\\n\"\n",
    "    f\"Signature: {encrypted_message[2]['signature']}\"\n",
    ")\n",
    "\n",
    "# Bob receives and validates the message\n",
    "try:\n",
    "    received_message = socnet.decrypt_message(signed_message)\n",
    "    print(\"\\nDecrypted and validated message:\", received_message)\n",
    "except ValueError as e:\n",
    "    print(e)"
   ]
  },
  {
   "cell_type": "code",
   "execution_count": 7,
   "metadata": {},
   "outputs": [
    {
     "name": "stdout",
     "output_type": "stream",
     "text": [
      "41894756947501854759022893559033835855374721955522720362380996408440793240734869891230919371949115591559717477167149435705860928235045706204646664160841864148994969800804184012859030819925307093186566991740622682080191849429875229870565913538743068549339662024128259069072873911780752676769975903865880091772\n",
      "Incorrect key used for decryption:  'utf-8' codec can't decode byte 0xbc in position 4: invalid start byte\n",
      "Hey Alice, thanks for the reminder, I'll pay you back at the office party tomorrow.\n"
     ]
    }
   ],
   "source": [
    "enc_message = socnet.encrypt_message(\"Bob\", \"Alice\", \"Hey Alice, thanks for the reminder, I'll pay you back at the office party tomorrow.\")\n",
    "message = enc_message[2][\"message\"]\n",
    "print(message)\n",
    "wrong_key = socnet.decrypt(message, socnet.users[\"Charlie\"].priv_key)\n",
    "correct_key = socnet.decrypt(message, socnet.users[\"Alice\"].priv_key)\n",
    "print(correct_key)\n"
   ]
  },
  {
   "cell_type": "code",
   "execution_count": null,
   "metadata": {},
   "outputs": [],
   "source": []
  }
 ],
 "metadata": {
  "kernelspec": {
   "display_name": "Python 3",
   "language": "python",
   "name": "python3"
  },
  "language_info": {
   "codemirror_mode": {
    "name": "ipython",
    "version": 3
   },
   "file_extension": ".py",
   "mimetype": "text/x-python",
   "name": "python",
   "nbconvert_exporter": "python",
   "pygments_lexer": "ipython3",
   "version": "3.12.0"
  }
 },
 "nbformat": 4,
 "nbformat_minor": 2
}
