{
 "cells": [
  {
   "cell_type": "code",
   "execution_count": 1,
   "metadata": {},
   "outputs": [],
   "source": [
    "import network as net"
   ]
  },
  {
   "cell_type": "code",
   "execution_count": 2,
   "metadata": {},
   "outputs": [
    {
     "data": {
      "text/plain": [
       "<module 'network' from '/Users/gregor/Library/CloudStorage/OneDrive-SharedLibraries-Onedrive/Documents/W Fall 2024/ICS 311/Assignments/Assignment 7/Assignment7/ICS311_Assignment7/network.py'>"
      ]
     },
     "execution_count": 2,
     "metadata": {},
     "output_type": "execute_result"
    }
   ],
   "source": [
    "import importlib\n",
    "importlib.reload(net)"
   ]
  },
  {
   "cell_type": "code",
   "execution_count": 3,
   "metadata": {},
   "outputs": [],
   "source": [
    "socnet = net.Network()\n",
    "socnet.add_user(\"Alice\", [\"Bob\", \"Charlie\"])\n",
    "socnet.add_user(\"Bob\", [\"Alice\", \"Charlie\"])\n",
    "socnet.add_user(\"Charlie\", [\"Alice\", \"Bob\", \"David\"])\n",
    "socnet.add_user(\"David\", [\"Charlie\"])\n"
   ]
  },
  {
   "cell_type": "code",
   "execution_count": 4,
   "metadata": {},
   "outputs": [
    {
     "name": "stdout",
     "output_type": "stream",
     "text": [
      "{('Charlie', 'David'), ('Bob', 'Charlie'), ('Alice', 'Bob'), ('Alice', 'Charlie')}\n"
     ]
    }
   ],
   "source": [
    "print(socnet.edges)"
   ]
  },
  {
   "cell_type": "code",
   "execution_count": 5,
   "metadata": {},
   "outputs": [
    {
     "name": "stdout",
     "output_type": "stream",
     "text": [
      "('Alice', 'Bob', {'metadata': None, 'message': 79937497235406114898968437244617361396509863388559265232824003863506890306606559643570483674777412187338206771541403862158381061204509424716325764601582999728612123210372850845943738646362729961876380253555869200923107849568970139614775070355333578739379302995947690012768482816836856172999338984396811083280})\n"
     ]
    }
   ],
   "source": [
    "encrypted_message = socnet.encrypt_message(\"Alice\", \"Bob\", \"Hey Bob, this is Alice. You owe me $5!\")\n",
    "print(encrypted_message)\n"
   ]
  },
  {
   "cell_type": "code",
   "execution_count": 6,
   "metadata": {},
   "outputs": [
    {
     "name": "stdout",
     "output_type": "stream",
     "text": [
      "Hey Bob, this is Alice. You owe me $5!\n"
     ]
    }
   ],
   "source": [
    "decrypted_message = socnet.decrypt_message(encrypted_message)\n",
    "print(decrypted_message)"
   ]
  },
  {
   "cell_type": "code",
   "execution_count": 7,
   "metadata": {},
   "outputs": [
    {
     "name": "stdout",
     "output_type": "stream",
     "text": [
      "41894756947501854759022893559033835855374721955522720362380996408440793240734869891230919371949115591559717477167149435705860928235045706204646664160841864148994969800804184012859030819925307093186566991740622682080191849429875229870565913538743068549339662024128259069072873911780752676769975903865880091772\n",
      "Incorrect key used for decryption:  'utf-8' codec can't decode byte 0xbc in position 4: invalid start byte\n",
      "Hey Alice, thanks for the reminder, I'll pay you back at the office party tomorrow.\n"
     ]
    }
   ],
   "source": [
    "enc_message = socnet.encrypt_message(\"Bob\", \"Alice\", \"Hey Alice, thanks for the reminder, I'll pay you back at the office party tomorrow.\")\n",
    "message = enc_message[2][\"message\"]\n",
    "print(message)\n",
    "wrong_key = socnet.decrypt(message, socnet.users[\"Charlie\"].priv_key)\n",
    "correct_key = socnet.decrypt(message, socnet.users[\"Alice\"].priv_key)\n",
    "print(correct_key)\n"
   ]
  },
  {
   "cell_type": "code",
   "execution_count": null,
   "metadata": {},
   "outputs": [],
   "source": []
  }
 ],
 "metadata": {
  "kernelspec": {
   "display_name": "base",
   "language": "python",
   "name": "python3"
  },
  "language_info": {
   "codemirror_mode": {
    "name": "ipython",
    "version": 3
   },
   "file_extension": ".py",
   "mimetype": "text/x-python",
   "name": "python",
   "nbconvert_exporter": "python",
   "pygments_lexer": "ipython3",
   "version": "3.11.5"
  }
 },
 "nbformat": 4,
 "nbformat_minor": 2
}
