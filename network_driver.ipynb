{
 "cells": [
  {
   "cell_type": "code",
   "execution_count": 27,
   "metadata": {},
   "outputs": [],
   "source": [
    "import network as net"
   ]
  },
  {
   "cell_type": "code",
   "execution_count": 28,
   "metadata": {},
   "outputs": [
    {
     "data": {
      "text/plain": [
       "<module 'network' from '/Users/gregor/Library/CloudStorage/OneDrive-SharedLibraries-Onedrive/Documents/W Fall 2024/ICS 311/Assignments/Assignment 7/Assignment7/ICS311_Assignment7/network.py'>"
      ]
     },
     "execution_count": 28,
     "metadata": {},
     "output_type": "execute_result"
    }
   ],
   "source": [
    "import importlib\n",
    "importlib.reload(net)"
   ]
  },
  {
   "cell_type": "code",
   "execution_count": 29,
   "metadata": {},
   "outputs": [],
   "source": [
    "socnet = net.Network()\n",
    "socnet.add_user(\"Alice\", [\"Bob\", \"Charlie\"])\n",
    "socnet.add_user(\"Bob\", [\"Alice\", \"Charlie\"])\n",
    "socnet.add_user(\"Charlie\", [\"Alice\", \"Bob\", \"David\"])\n",
    "socnet.add_user(\"David\", [\"Charlie\"])\n"
   ]
  },
  {
   "cell_type": "code",
   "execution_count": 30,
   "metadata": {},
   "outputs": [
    {
     "name": "stdout",
     "output_type": "stream",
     "text": [
      "{('Bob', 'Charlie'), ('Alice', 'Charlie'), ('Alice', 'Bob'), ('Charlie', 'David')}\n"
     ]
    }
   ],
   "source": [
    "print(socnet.edges)"
   ]
  },
  {
   "cell_type": "code",
   "execution_count": 31,
   "metadata": {},
   "outputs": [
    {
     "name": "stdout",
     "output_type": "stream",
     "text": [
      "('Alice', 'Bob', {'metadata': None, 'message': 35499965607017389048312495180659404085310584363496753018419421853366753470436399691577755916130670796090354937317892015142059182116715389092903252635017577012751438471097664046858151838920562143026119114534904421254802740874497789153116791173886151645436890347656930413456391442089868613474041808173742799504})\n"
     ]
    }
   ],
   "source": [
    "encrypted_message = socnet.encrypt_message(\"Alice\", \"Bob\", \"Hey Bob, this is Alice. You owe me $5!\")\n",
    "print(encrypted_message)\n"
   ]
  },
  {
   "cell_type": "code",
   "execution_count": 32,
   "metadata": {},
   "outputs": [
    {
     "name": "stdout",
     "output_type": "stream",
     "text": [
      "Hey Bob, this is Alice. You owe me $5!\n"
     ]
    }
   ],
   "source": [
    "decrypted_message = socnet.decrypt_message(encrypted_message)\n",
    "print(decrypted_message)"
   ]
  },
  {
   "cell_type": "code",
   "execution_count": null,
   "metadata": {},
   "outputs": [],
   "source": []
  }
 ],
 "metadata": {
  "kernelspec": {
   "display_name": "base",
   "language": "python",
   "name": "python3"
  },
  "language_info": {
   "codemirror_mode": {
    "name": "ipython",
    "version": 3
   },
   "file_extension": ".py",
   "mimetype": "text/x-python",
   "name": "python",
   "nbconvert_exporter": "python",
   "pygments_lexer": "ipython3",
   "version": "3.11.5"
  }
 },
 "nbformat": 4,
 "nbformat_minor": 2
}
