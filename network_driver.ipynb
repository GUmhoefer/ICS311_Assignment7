{
 "cells": [
  {
   "cell_type": "code",
   "execution_count": 1,
   "metadata": {},
   "outputs": [],
   "source": [
    "import network as net"
   ]
  },
  {
   "cell_type": "code",
   "execution_count": 2,
   "metadata": {},
   "outputs": [
    {
     "data": {
      "text/plain": [
       "<module 'network' from '/Users/gregor/Library/CloudStorage/OneDrive-SharedLibraries-Onedrive/Documents/W Fall 2024/ICS 311/Assignments/Assignment 7/Assignment7/ICS311_Assignment7/network.py'>"
      ]
     },
     "execution_count": 2,
     "metadata": {},
     "output_type": "execute_result"
    }
   ],
   "source": [
    "import importlib\n",
    "importlib.reload(net)"
   ]
  },
  {
   "cell_type": "code",
   "execution_count": 3,
   "metadata": {},
   "outputs": [],
   "source": [
    "socnet = net.Network()\n",
    "socnet.add_user(\"Alice\", [\"Bob\", \"Charlie\"])\n",
    "socnet.add_user(\"Bob\", [\"Alice\", \"Charlie\"])\n",
    "socnet.add_user(\"Charlie\", [\"Alice\", \"Bob\", \"David\"])\n",
    "socnet.add_user(\"David\", [\"Charlie\"])\n"
   ]
  },
  {
   "cell_type": "code",
   "execution_count": 4,
   "metadata": {},
   "outputs": [
    {
     "name": "stdout",
     "output_type": "stream",
     "text": [
      "{('Alice', 'Bob'), ('Alice', 'Charlie'), ('Charlie', 'David'), ('Bob', 'Charlie')}\n"
     ]
    }
   ],
   "source": [
    "print(socnet.edges)"
   ]
  },
  {
   "cell_type": "code",
   "execution_count": null,
   "metadata": {},
   "outputs": [
    {
     "name": "stdout",
     "output_type": "stream",
     "text": [
      "Message to send: Hey Bob, this is Alice. You owe me $5!\n",
      "\n",
      "Sender: Alice\n",
      "Receiver: Bob\n",
      "Encrypted message: 36798182466458523956766756694495976880416482487193258194427549992604397549829071212771059788388431941440849756238839347626491115889119222939153352895878426714855321287805632020470680903800905993758382791386173699303573308941933506988393301395441949130020663068042962883551247625764215254330545201062821400026\n",
      "Signature: 14526848427024391113254933353992821604373997853274043194534287721312901899040636952083327595841591838047672263441189372255268862944954106810800317730747176682245236744504775051829700623313972415387303083413656114745814375374122646593726722156817132207421263180726402359886690150744973801454603196816685254941\n",
      "\n"
     ]
    }
   ],
   "source": [
    "message_to_send = \"Hey Bob, this is Alice. You owe me $5!\"\n",
    "encrypted_message = socnet.encrypt_message(\"Alice\", \"Bob\", message_to_send)\n",
    "print(\n",
    "    f\"Message to send: {message_to_send}\\n\\n\"\n",
    "    f\"Sender: {encrypted_message[0]}\\n\"\n",
    "    f\"Receiver: {encrypted_message[1]}\\n\"\n",
    "    f\"Encrypted message: {encrypted_message[2]['message']}\\n\"\n",
    ")\n"
   ]
  },
  {
   "cell_type": "code",
   "execution_count": 6,
   "metadata": {},
   "outputs": [
    {
     "name": "stdout",
     "output_type": "stream",
     "text": [
      "Decrypted message: Hey Bob, this is Alice. You owe me $5!\n",
      "Message matches: True\n"
     ]
    }
   ],
   "source": [
    "decrypted_message = socnet.decrypt_message(encrypted_message)\n",
    "print(f\"Decrypted message: {decrypted_message}\")\n",
    "print(f\"Message matches: {message_to_send == decrypted_message}\")"
   ]
  },
  {
   "cell_type": "code",
   "execution_count": 7,
   "metadata": {},
   "outputs": [
    {
     "name": "stdout",
     "output_type": "stream",
     "text": [
      "Message to send: Sup, Bob!\n",
      "\n",
      "Sender: Alice\n",
      "Receiver: Bob\n",
      "Encrypted message: 36798182466458523956766756694495976880416482487193258194427549992604397549829071212771059788388431941440849756238839347626491115889119222939153352895878426714855321287805632020470680903800905993758382791386173699303573308941933506988393301395441949130020663068042962883551247625764215254330545201062821400026\n",
      "Signature: 14526848427024391113254933353992821604373997853274043194534287721312901899040636952083327595841591838047672263441189372255268862944954106810800317730747176682245236744504775051829700623313972415387303083413656114745814375374122646593726722156817132207421263180726402359886690150744973801454603196816685254941\n",
      "\n",
      "Decrypted and validated message: Sup, Bob!\n"
     ]
    }
   ],
   "source": [
    "# Alice sends a signed message to Bob\n",
    "message_to_send = \"Sup, Bob!\"\n",
    "signed_message= socnet.encrypt_message(\"Alice\", \"Bob\", message_to_send)\n",
    "\n",
    "print(\n",
    "    f\"Message to send: {message_to_send}\\n\\n\"\n",
    "    f\"Sender: {encrypted_message[0]}\\n\"\n",
    "    f\"Receiver: {encrypted_message[1]}\\n\"\n",
    "    f\"Encrypted message: {encrypted_message[2]['message']}\\n\"\n",
    "    f\"Signature: {encrypted_message[2]['signature']}\"\n",
    ")\n",
    "\n",
    "# Bob receives and validates the message\n",
    "try:\n",
    "    received_message = socnet.decrypt_message(signed_message)\n",
    "    print(\"\\nDecrypted and validated message:\", received_message)\n",
    "except ValueError as e:\n",
    "    print(e)"
   ]
  },
  {
   "cell_type": "code",
   "execution_count": 8,
   "metadata": {},
   "outputs": [
    {
     "name": "stdout",
     "output_type": "stream",
     "text": [
      "63716693291362090449585923118556657117703891041502152032205942122949918966466503620742017391240603428992553787448604140567344086428212028615462713638733084419167333394212876067542733938993273680564388010186292065594025033443979401295985009222387765899568028218666834657830668223717384338850227339935923456815\n",
      "Incorrect key used for decryption:  'utf-8' codec can't decode byte 0xd0 in position 1: invalid continuation byte\n",
      "Hey Alice, thanks for the reminder, I'll pay you back at the office party tomorrow.\n"
     ]
    }
   ],
   "source": [
    "enc_message = socnet.encrypt_message(\"Bob\", \"Alice\", \"Hey Alice, thanks for the reminder, I'll pay you back at the office party tomorrow.\")\n",
    "message = enc_message[2][\"message\"]\n",
    "print(message)\n",
    "wrong_key = socnet.decrypt(message, socnet.users[\"Charlie\"].priv_key)\n",
    "correct_key = socnet.decrypt(message, socnet.users[\"Alice\"].priv_key)\n",
    "print(correct_key)\n"
   ]
  },
  {
   "cell_type": "code",
   "execution_count": null,
   "metadata": {},
   "outputs": [],
   "source": []
  }
 ],
 "metadata": {
  "kernelspec": {
   "display_name": "base",
   "language": "python",
   "name": "python3"
  },
  "language_info": {
   "codemirror_mode": {
    "name": "ipython",
    "version": 3
   },
   "file_extension": ".py",
   "mimetype": "text/x-python",
   "name": "python",
   "nbconvert_exporter": "python",
   "pygments_lexer": "ipython3",
   "version": "3.11.5"
  }
 },
 "nbformat": 4,
 "nbformat_minor": 2
}
